{
 "cells": [
  {
   "cell_type": "markdown",
   "id": "a7122a66",
   "metadata": {},
   "source": [
    "# Numby "
   ]
  },
  {
   "cell_type": "markdown",
   "id": "b918852a",
   "metadata": {},
   "source": [
    "Numby é um dos pacotes mais importantes para processamento numérico em Python. Ele oferece a base para a maioria dos pacotes de aplicações cientificas que utilizam dados numéricos em Python(estrutura de dados e algoritmos)."
   ]
  },
  {
   "cell_type": "markdown",
   "id": "7757a6ec",
   "metadata": {},
   "source": [
    "## Importando o pacote"
   ]
  },
  {
   "cell_type": "code",
   "execution_count": 2,
   "id": "28f2b758",
   "metadata": {},
   "outputs": [],
   "source": [
    "import numpy as np"
   ]
  },
  {
   "cell_type": "markdown",
   "id": "6bc0b80e",
   "metadata": {},
   "source": [
    "Usando um dos métodos disponiveis:"
   ]
  },
  {
   "cell_type": "code",
   "execution_count": 3,
   "id": "25a18f71",
   "metadata": {},
   "outputs": [
    {
     "data": {
      "text/plain": [
       "array([0, 1, 2, 3, 4, 5, 6, 7, 8, 9])"
      ]
     },
     "execution_count": 3,
     "metadata": {},
     "output_type": "execute_result"
    }
   ],
   "source": [
    "np.arange(10)"
   ]
  },
  {
   "cell_type": "markdown",
   "id": "45e56f3a",
   "metadata": {},
   "source": [
    "## Importando parte do pacote"
   ]
  },
  {
   "cell_type": "code",
   "execution_count": 4,
   "id": "f86c48b1",
   "metadata": {},
   "outputs": [],
   "source": [
    "from numpy import arange"
   ]
  },
  {
   "cell_type": "raw",
   "id": "98a983d1",
   "metadata": {},
   "source": [
    "Usando métodos importado:"
   ]
  },
  {
   "cell_type": "code",
   "execution_count": 5,
   "id": "2c07a276",
   "metadata": {},
   "outputs": [
    {
     "data": {
      "text/plain": [
       "array([0, 1, 2, 3, 4, 5, 6, 7, 8, 9])"
      ]
     },
     "execution_count": 5,
     "metadata": {},
     "output_type": "execute_result"
    }
   ],
   "source": [
    "arange(10)"
   ]
  },
  {
   "cell_type": "markdown",
   "id": "8585a094",
   "metadata": {},
   "source": [
    "## Criando array Numpy"
   ]
  },
  {
   "cell_type": "code",
   "execution_count": 6,
   "id": "1acf68b2",
   "metadata": {},
   "outputs": [],
   "source": [
    "import numpy as np"
   ]
  },
  {
   "cell_type": "code",
   "execution_count": 7,
   "id": "21c8a0ac",
   "metadata": {},
   "outputs": [],
   "source": [
    "ano = np.array([10, 25, 50, 75, 100])"
   ]
  },
  {
   "cell_type": "code",
   "execution_count": 8,
   "id": "1dcd3af8",
   "metadata": {},
   "outputs": [
    {
     "data": {
      "text/plain": [
       "array([ 10,  25,  50,  75, 100])"
      ]
     },
     "execution_count": 8,
     "metadata": {},
     "output_type": "execute_result"
    }
   ],
   "source": [
    "ano"
   ]
  },
  {
   "cell_type": "code",
   "execution_count": 9,
   "id": "af0419be",
   "metadata": {},
   "outputs": [
    {
     "data": {
      "text/plain": [
       "numpy.ndarray"
      ]
     },
     "execution_count": 9,
     "metadata": {},
     "output_type": "execute_result"
    }
   ],
   "source": [
    "type(ano)"
   ]
  },
  {
   "cell_type": "code",
   "execution_count": 10,
   "id": "57a57e12",
   "metadata": {},
   "outputs": [
    {
     "data": {
      "text/plain": [
       "dtype('int64')"
      ]
     },
     "execution_count": 10,
     "metadata": {},
     "output_type": "execute_result"
    }
   ],
   "source": [
    "ano.dtype"
   ]
  },
  {
   "cell_type": "markdown",
   "id": "8c18eead",
   "metadata": {},
   "source": [
    "### A partir de dados externos"
   ]
  },
  {
   "cell_type": "code",
   "execution_count": 11,
   "id": "1cd85835",
   "metadata": {},
   "outputs": [],
   "source": [
    "ano = np.loadtxt(fname = 'carros-ano.txt', dtype = int)"
   ]
  },
  {
   "cell_type": "code",
   "execution_count": 12,
   "id": "ac1dc301",
   "metadata": {},
   "outputs": [
    {
     "data": {
      "text/plain": [
       "array([2003, 1991, 1990, 2019, 2006, 2012, 2019, 2009, 2010, 2011, 2002,\n",
       "       2007, 2001, 2019, 2009, 2016, 2012, 2019, 2016, 2017, 2002, 2019,\n",
       "       1994, 1991, 2019, 2019, 2016, 2019, 2002, 1991, 1997, 1995, 2018,\n",
       "       1991, 2014, 1995, 2019, 2019, 2009, 2019, 2013, 2003, 2019, 2002,\n",
       "       2019, 2002, 2004, 2001, 2019, 2003, 2009, 2006, 2000, 2006, 2010,\n",
       "       1994, 2007, 2019, 2019, 2019, 2019, 2019, 2017, 2011, 2001, 1996,\n",
       "       2019, 1994, 2019, 2007, 1994, 2007, 1997, 2006, 2013, 1994, 2008,\n",
       "       2008, 2019, 2019, 1999, 2007, 1993, 1995, 2019, 2019, 2016, 2011,\n",
       "       2019, 2002, 2013, 2017, 2016, 2008, 2018, 2003, 2003, 2004, 2010,\n",
       "       2019, 2006, 2001, 2019, 2015, 2018, 2017, 1992, 2001, 1993, 1995,\n",
       "       2003, 2014, 2008, 2013, 2019, 2017, 2019, 2019, 2006, 2015, 2007,\n",
       "       2005, 2017, 1998, 2019, 1999, 2019, 2009, 2003, 1994, 2019, 1994,\n",
       "       2019, 2015, 1996, 1997, 1993, 2019, 1992, 1995, 2019, 1990, 2019,\n",
       "       2019, 1991, 1990, 2012, 2007, 2013, 2000, 2002, 1996, 1996, 2015,\n",
       "       1993, 2013, 2013, 2009, 2019, 2019, 2002, 1997, 1998, 2004, 1996,\n",
       "       2015, 2016, 2005, 1999, 1995, 1993, 2004, 2013, 1998, 2018, 2019,\n",
       "       2018, 2019, 1990, 2009, 1990, 2006, 2002, 1991, 1992, 2019, 2019,\n",
       "       2005, 2010, 2019, 2016, 2019, 2010, 1994, 2001, 2014, 1996, 1993,\n",
       "       1993, 2001, 2019, 2019, 2019, 2007, 2019, 2016, 2014, 2019, 2015,\n",
       "       2015, 1996, 2002, 2005, 1995, 1999, 2005, 2019, 1997, 1990, 2001,\n",
       "       2013, 2019, 2017, 2011, 2005, 2007, 1993, 1991, 1991, 1997, 2000,\n",
       "       2007, 2006, 2015, 2008, 2019, 1996, 2019, 2019, 2014, 2004, 2008,\n",
       "       2019, 2019, 2012, 2019, 1996, 2011, 2019, 2010, 2007, 1994, 2007,\n",
       "       2014, 1991, 2002, 1996, 1992])"
      ]
     },
     "execution_count": 12,
     "metadata": {},
     "output_type": "execute_result"
    }
   ],
   "source": [
    "ano"
   ]
  },
  {
   "cell_type": "code",
   "execution_count": 13,
   "id": "af02dc90",
   "metadata": {},
   "outputs": [
    {
     "data": {
      "text/plain": [
       "(258,)"
      ]
     },
     "execution_count": 13,
     "metadata": {},
     "output_type": "execute_result"
    }
   ],
   "source": [
    "ano.shape # quantidade de linhas"
   ]
  },
  {
   "cell_type": "markdown",
   "id": "bd066324",
   "metadata": {},
   "source": [
    "## Comparando desempenho de array np e listas python"
   ]
  },
  {
   "cell_type": "code",
   "execution_count": 14,
   "id": "3c5d2cf8",
   "metadata": {},
   "outputs": [],
   "source": [
    "np_array = np.arange(1000000)"
   ]
  },
  {
   "cell_type": "code",
   "execution_count": 15,
   "id": "eea5f21f",
   "metadata": {},
   "outputs": [],
   "source": [
    "py_list = list(range(1000000))"
   ]
  },
  {
   "cell_type": "code",
   "execution_count": 16,
   "id": "82317a3c",
   "metadata": {},
   "outputs": [
    {
     "name": "stdout",
     "output_type": "stream",
     "text": [
      "CPU times: user 153 ms, sys: 439 µs, total: 154 ms\n",
      "Wall time: 151 ms\n"
     ]
    }
   ],
   "source": [
    "%time for _ in range(100): np_array *= 2"
   ]
  },
  {
   "cell_type": "code",
   "execution_count": 17,
   "id": "72274bc9",
   "metadata": {},
   "outputs": [
    {
     "name": "stdout",
     "output_type": "stream",
     "text": [
      "CPU times: user 9.04 s, sys: 2.01 s, total: 11.1 s\n",
      "Wall time: 11.1 s\n"
     ]
    }
   ],
   "source": [
    "%time for _ in range(100): py_list = [x * 2 for x in py_list]"
   ]
  },
  {
   "cell_type": "markdown",
   "id": "2b92dc07",
   "metadata": {},
   "source": [
    "## Operações aritméticas com array Numpy"
   ]
  },
  {
   "cell_type": "code",
   "execution_count": 18,
   "id": "dd2a1137",
   "metadata": {},
   "outputs": [],
   "source": [
    "km = [44410., 5712., 37123., 0., 25757.]\n",
    "anos = [2003, 1991, 1990, 2019, 2006] "
   ]
  },
  {
   "cell_type": "code",
   "execution_count": 21,
   "id": "2ada4251",
   "metadata": {},
   "outputs": [
    {
     "ename": "TypeError",
     "evalue": "unsupported operand type(s) for -: 'int' and 'list'",
     "output_type": "error",
     "traceback": [
      "\u001b[0;31m---------------------------------------------------------------------------\u001b[0m",
      "\u001b[0;31mTypeError\u001b[0m                                 Traceback (most recent call last)",
      "\u001b[0;32m<ipython-input-21-4084c5e6fc93>\u001b[0m in \u001b[0;36m<module>\u001b[0;34m\u001b[0m\n\u001b[0;32m----> 1\u001b[0;31m \u001b[0midade\u001b[0m \u001b[0;34m=\u001b[0m \u001b[0;36m2019\u001b[0m \u001b[0;34m-\u001b[0m \u001b[0manos\u001b[0m\u001b[0;34m\u001b[0m\u001b[0;34m\u001b[0m\u001b[0m\n\u001b[0m",
      "\u001b[0;31mTypeError\u001b[0m: unsupported operand type(s) for -: 'int' and 'list'"
     ]
    }
   ],
   "source": [
    "idade = 2019 - anos"
   ]
  },
  {
   "cell_type": "code",
   "execution_count": 22,
   "id": "b7ac6dbf",
   "metadata": {},
   "outputs": [],
   "source": [
    "km = np.array([44410., 5712., 37123., 0., 25757.])\n",
    "anos = np.array([2003, 1991, 1990, 2019, 2006])"
   ]
  },
  {
   "cell_type": "code",
   "execution_count": 23,
   "id": "3f24eeb2",
   "metadata": {},
   "outputs": [],
   "source": [
    "idade = 2019 - anos"
   ]
  },
  {
   "cell_type": "code",
   "execution_count": 24,
   "id": "3218e0e1",
   "metadata": {},
   "outputs": [
    {
     "data": {
      "text/plain": [
       "array([16, 28, 29,  0, 13])"
      ]
     },
     "execution_count": 24,
     "metadata": {},
     "output_type": "execute_result"
    }
   ],
   "source": [
    "idade"
   ]
  },
  {
   "cell_type": "markdown",
   "id": "2d139985",
   "metadata": {},
   "source": [
    "### Operações entra arrays"
   ]
  },
  {
   "cell_type": "code",
   "execution_count": 25,
   "id": "af0ad83f",
   "metadata": {},
   "outputs": [
    {
     "name": "stderr",
     "output_type": "stream",
     "text": [
      "<ipython-input-25-e42ad4dcb087>:1: RuntimeWarning: invalid value encountered in true_divide\n",
      "  km_media = km / idade # n é possivel realizar divisao por 0\n"
     ]
    }
   ],
   "source": [
    "km_media = km / idade # n é possivel realizar divisao por 0"
   ]
  },
  {
   "cell_type": "code",
   "execution_count": 26,
   "id": "ad76535e",
   "metadata": {},
   "outputs": [
    {
     "data": {
      "text/plain": [
       "array([2775.625     ,  204.        , 1280.10344828,           nan,\n",
       "       1981.30769231])"
      ]
     },
     "execution_count": 26,
     "metadata": {},
     "output_type": "execute_result"
    }
   ],
   "source": [
    "km_media"
   ]
  },
  {
   "cell_type": "markdown",
   "id": "60cf8e81",
   "metadata": {},
   "source": [
    "### Operações com arrays de duas dimensões"
   ]
  },
  {
   "cell_type": "code",
   "execution_count": 27,
   "id": "5190aea1",
   "metadata": {},
   "outputs": [],
   "source": [
    "dados = np.array([km, anos])"
   ]
  },
  {
   "cell_type": "code",
   "execution_count": 28,
   "id": "af4348e9",
   "metadata": {},
   "outputs": [
    {
     "data": {
      "text/plain": [
       "array([[44410.,  5712., 37123.,     0., 25757.],\n",
       "       [ 2003.,  1991.,  1990.,  2019.,  2006.]])"
      ]
     },
     "execution_count": 28,
     "metadata": {},
     "output_type": "execute_result"
    }
   ],
   "source": [
    "dados"
   ]
  },
  {
   "cell_type": "code",
   "execution_count": 29,
   "id": "22e8da6b",
   "metadata": {},
   "outputs": [
    {
     "data": {
      "text/plain": [
       "(2, 5)"
      ]
     },
     "execution_count": 29,
     "metadata": {},
     "output_type": "execute_result"
    }
   ],
   "source": [
    "dados.shape # dimensões"
   ]
  },
  {
   "cell_type": "code",
   "execution_count": 30,
   "id": "ff7bd158",
   "metadata": {},
   "outputs": [
    {
     "data": {
      "text/plain": [
       "array([44410.,  5712., 37123.,     0., 25757.])"
      ]
     },
     "execution_count": 30,
     "metadata": {},
     "output_type": "execute_result"
    }
   ],
   "source": [
    "dados[0]"
   ]
  },
  {
   "cell_type": "code",
   "execution_count": 31,
   "id": "7af8ed71",
   "metadata": {},
   "outputs": [
    {
     "data": {
      "text/plain": [
       "array([2003., 1991., 1990., 2019., 2006.])"
      ]
     },
     "execution_count": 31,
     "metadata": {},
     "output_type": "execute_result"
    }
   ],
   "source": [
    "dados[1]"
   ]
  },
  {
   "cell_type": "code",
   "execution_count": 32,
   "id": "ee0bce64",
   "metadata": {},
   "outputs": [
    {
     "name": "stderr",
     "output_type": "stream",
     "text": [
      "<ipython-input-32-ba3d668d4f3e>:1: RuntimeWarning: invalid value encountered in true_divide\n",
      "  km_media = dados[0] / (2019 - dados[1])\n"
     ]
    }
   ],
   "source": [
    "km_media = dados[0] / (2019 - dados[1])"
   ]
  },
  {
   "cell_type": "code",
   "execution_count": 33,
   "id": "eaef42d0",
   "metadata": {},
   "outputs": [
    {
     "data": {
      "text/plain": [
       "array([2775.625     ,  204.        , 1280.10344828,           nan,\n",
       "       1981.30769231])"
      ]
     },
     "execution_count": 33,
     "metadata": {},
     "output_type": "execute_result"
    }
   ],
   "source": [
    "km_media"
   ]
  },
  {
   "cell_type": "code",
   "execution_count": 34,
   "id": "9d2d8a08",
   "metadata": {},
   "outputs": [
    {
     "data": {
      "text/plain": [
       "array([[44410.,  5712., 37123.,     0., 25757.],\n",
       "       [ 2003.,  1991.,  1990.,  2019.,  2006.]])"
      ]
     },
     "execution_count": 34,
     "metadata": {},
     "output_type": "execute_result"
    }
   ],
   "source": [
    "dados"
   ]
  },
  {
   "cell_type": "code",
   "execution_count": 35,
   "id": "7d0ceddd",
   "metadata": {},
   "outputs": [
    {
     "data": {
      "text/plain": [
       "array([0, 1, 2, 3, 4, 5, 6, 7, 8, 9])"
      ]
     },
     "execution_count": 35,
     "metadata": {},
     "output_type": "execute_result"
    }
   ],
   "source": [
    "contador = np.arange(10)\n",
    "contador"
   ]
  },
  {
   "cell_type": "code",
   "execution_count": 38,
   "id": "3b7f6d52",
   "metadata": {},
   "outputs": [
    {
     "data": {
      "text/plain": [
       "1990.0"
      ]
     },
     "execution_count": 38,
     "metadata": {},
     "output_type": "execute_result"
    }
   ],
   "source": [
    "dados[1][2]"
   ]
  },
  {
   "cell_type": "code",
   "execution_count": 39,
   "id": "816dfc6d",
   "metadata": {},
   "outputs": [
    {
     "data": {
      "text/plain": [
       "1990.0"
      ]
     },
     "execution_count": 39,
     "metadata": {},
     "output_type": "execute_result"
    }
   ],
   "source": [
    "dados[1, 2]"
   ]
  },
  {
   "cell_type": "code",
   "execution_count": 43,
   "id": "24cec6df",
   "metadata": {},
   "outputs": [
    {
     "data": {
      "text/plain": [
       "array([[ 5712., 37123.,     0.],\n",
       "       [ 1991.,  1990.,  2019.]])"
      ]
     },
     "execution_count": 43,
     "metadata": {},
     "output_type": "execute_result"
    }
   ],
   "source": [
    "dados[:, 1:4]"
   ]
  },
  {
   "cell_type": "code",
   "execution_count": 44,
   "id": "e62e266e",
   "metadata": {},
   "outputs": [
    {
     "data": {
      "text/plain": [
       "array([[ 5712., 37123.],\n",
       "       [ 1991.,  1990.]])"
      ]
     },
     "execution_count": 44,
     "metadata": {},
     "output_type": "execute_result"
    }
   ],
   "source": [
    "dados[:, 1:3]"
   ]
  },
  {
   "cell_type": "code",
   "execution_count": 45,
   "id": "ad7e63f6",
   "metadata": {},
   "outputs": [
    {
     "data": {
      "text/plain": [
       "array([ 5712., 37123.])"
      ]
     },
     "execution_count": 45,
     "metadata": {},
     "output_type": "execute_result"
    }
   ],
   "source": [
    "dados[:, 1:3][0]"
   ]
  },
  {
   "cell_type": "code",
   "execution_count": 47,
   "id": "48c108ce",
   "metadata": {},
   "outputs": [
    {
     "data": {
      "text/plain": [
       "array([ 204.        , 1280.10344828])"
      ]
     },
     "execution_count": 47,
     "metadata": {},
     "output_type": "execute_result"
    }
   ],
   "source": [
    "dados[:, 1:3][0] / (2019 - dados[:, 1:3][1]) # média por ano"
   ]
  },
  {
   "cell_type": "code",
   "execution_count": 49,
   "id": "c584b0a6",
   "metadata": {},
   "outputs": [
    {
     "data": {
      "text/plain": [
       "array([0, 1, 2, 3, 4, 5, 6, 7, 8, 9])"
      ]
     },
     "execution_count": 49,
     "metadata": {},
     "output_type": "execute_result"
    }
   ],
   "source": [
    "contador"
   ]
  },
  {
   "cell_type": "code",
   "execution_count": 50,
   "id": "b6394db5",
   "metadata": {},
   "outputs": [
    {
     "data": {
      "text/plain": [
       "array([False, False, False, False, False, False,  True,  True,  True,\n",
       "        True])"
      ]
     },
     "execution_count": 50,
     "metadata": {},
     "output_type": "execute_result"
    }
   ],
   "source": [
    "contador > 5"
   ]
  },
  {
   "cell_type": "code",
   "execution_count": 51,
   "id": "17e9b461",
   "metadata": {},
   "outputs": [
    {
     "data": {
      "text/plain": [
       "array([6, 7, 8, 9])"
      ]
     },
     "execution_count": 51,
     "metadata": {},
     "output_type": "execute_result"
    }
   ],
   "source": [
    "contador[contador > 5]"
   ]
  },
  {
   "cell_type": "code",
   "execution_count": 54,
   "id": "cbfa4194",
   "metadata": {},
   "outputs": [
    {
     "data": {
      "text/plain": [
       "array([6, 7, 8, 9])"
      ]
     },
     "execution_count": 54,
     "metadata": {},
     "output_type": "execute_result"
    }
   ],
   "source": [
    "contador[[False, False, False, False, False, False,  True,  True,  True,\n",
    "        True]]"
   ]
  },
  {
   "cell_type": "code",
   "execution_count": 55,
   "id": "be0ec111",
   "metadata": {},
   "outputs": [
    {
     "data": {
      "text/plain": [
       "array([[44410.,  5712., 37123.,     0., 25757.],\n",
       "       [ 2003.,  1991.,  1990.,  2019.,  2006.]])"
      ]
     },
     "execution_count": 55,
     "metadata": {},
     "output_type": "execute_result"
    }
   ],
   "source": [
    "dados"
   ]
  },
  {
   "cell_type": "code",
   "execution_count": 56,
   "id": "191c3def",
   "metadata": {},
   "outputs": [
    {
     "data": {
      "text/plain": [
       "array([ True, False, False,  True,  True])"
      ]
     },
     "execution_count": 56,
     "metadata": {},
     "output_type": "execute_result"
    }
   ],
   "source": [
    "dados[1] > 2000"
   ]
  },
  {
   "cell_type": "code",
   "execution_count": 57,
   "id": "34b58926",
   "metadata": {},
   "outputs": [
    {
     "data": {
      "text/plain": [
       "array([[44410.,     0., 25757.],\n",
       "       [ 2003.,  2019.,  2006.]])"
      ]
     },
     "execution_count": 57,
     "metadata": {},
     "output_type": "execute_result"
    }
   ],
   "source": [
    "dados[:, dados[1] > 2000] # pegando apenas os carros fabricados dps dos anos 2000"
   ]
  },
  {
   "cell_type": "markdown",
   "id": "8c9e3fe5",
   "metadata": {},
   "source": [
    "## Alguns Atributos"
   ]
  },
  {
   "cell_type": "markdown",
   "id": "c790f8fa",
   "metadata": {},
   "source": [
    "<n>ndarry.shape:</n><br>\n",
    "Retorna uma tupla com as dimensões do array"
   ]
  },
  {
   "cell_type": "code",
   "execution_count": 60,
   "id": "f2a865b2",
   "metadata": {},
   "outputs": [
    {
     "data": {
      "text/plain": [
       "(2, 5)"
      ]
     },
     "execution_count": 60,
     "metadata": {},
     "output_type": "execute_result"
    }
   ],
   "source": [
    "dados.shape "
   ]
  },
  {
   "cell_type": "markdown",
   "id": "b87f977e",
   "metadata": {},
   "source": [
    "ndarray.ndim:<br>\n",
    "Retorna o número de dimensões do array"
   ]
  },
  {
   "cell_type": "code",
   "execution_count": 61,
   "id": "84e5c322",
   "metadata": {},
   "outputs": [
    {
     "data": {
      "text/plain": [
       "2"
      ]
     },
     "execution_count": 61,
     "metadata": {},
     "output_type": "execute_result"
    }
   ],
   "source": [
    "dados.ndim"
   ]
  },
  {
   "cell_type": "markdown",
   "id": "e0c61513",
   "metadata": {},
   "source": [
    "ndarray.size:<br>\n",
    "Retorna o número de elementos do array"
   ]
  },
  {
   "cell_type": "code",
   "execution_count": 62,
   "id": "36f5e4eb",
   "metadata": {},
   "outputs": [
    {
     "data": {
      "text/plain": [
       "10"
      ]
     },
     "execution_count": 62,
     "metadata": {},
     "output_type": "execute_result"
    }
   ],
   "source": [
    "dados.size"
   ]
  },
  {
   "cell_type": "markdown",
   "id": "4eed264f",
   "metadata": {},
   "source": [
    "ndarray.dtype:<br>\n",
    "Retorna o tipo de dados dos elementos do array"
   ]
  },
  {
   "cell_type": "code",
   "execution_count": 63,
   "id": "04f2b279",
   "metadata": {},
   "outputs": [
    {
     "data": {
      "text/plain": [
       "dtype('float64')"
      ]
     },
     "execution_count": 63,
     "metadata": {},
     "output_type": "execute_result"
    }
   ],
   "source": [
    "dados.dtype"
   ]
  },
  {
   "cell_type": "markdown",
   "id": "2ecd7a45",
   "metadata": {},
   "source": [
    "ndarray.T:<br>\n",
    "Retorna o array transposto, isto é, converte linhas em colunas e vice versa."
   ]
  },
  {
   "cell_type": "code",
   "execution_count": 64,
   "id": "152cbaf5",
   "metadata": {},
   "outputs": [
    {
     "data": {
      "text/plain": [
       "array([[44410.,  2003.],\n",
       "       [ 5712.,  1991.],\n",
       "       [37123.,  1990.],\n",
       "       [    0.,  2019.],\n",
       "       [25757.,  2006.]])"
      ]
     },
     "execution_count": 64,
     "metadata": {},
     "output_type": "execute_result"
    }
   ],
   "source": [
    "dados.T"
   ]
  },
  {
   "cell_type": "code",
   "execution_count": 65,
   "id": "bc95efd3",
   "metadata": {},
   "outputs": [
    {
     "data": {
      "text/plain": [
       "array([[44410.,  2003.],\n",
       "       [ 5712.,  1991.],\n",
       "       [37123.,  1990.],\n",
       "       [    0.,  2019.],\n",
       "       [25757.,  2006.]])"
      ]
     },
     "execution_count": 65,
     "metadata": {},
     "output_type": "execute_result"
    }
   ],
   "source": [
    "dados.transpose()"
   ]
  },
  {
   "cell_type": "markdown",
   "id": "2ae4fecb",
   "metadata": {},
   "source": [
    "## Alguns métodos"
   ]
  },
  {
   "cell_type": "markdown",
   "id": "8fd4fcc2",
   "metadata": {},
   "source": [
    "ndarray.tolist():<br>\n",
    "Retorna o array como uma lista Python."
   ]
  },
  {
   "cell_type": "code",
   "execution_count": 66,
   "id": "6f6ad755",
   "metadata": {},
   "outputs": [
    {
     "data": {
      "text/plain": [
       "[[44410.0, 5712.0, 37123.0, 0.0, 25757.0],\n",
       " [2003.0, 1991.0, 1990.0, 2019.0, 2006.0]]"
      ]
     },
     "execution_count": 66,
     "metadata": {},
     "output_type": "execute_result"
    }
   ],
   "source": [
    "dados.tolist()"
   ]
  },
  {
   "cell_type": "markdown",
   "id": "b8b5452b",
   "metadata": {},
   "source": [
    "ndarray.reshape(shape[, order]):<br>\n",
    "Retorna um array que contém os mesmos dados com uma nova forma."
   ]
  },
  {
   "cell_type": "code",
   "execution_count": 67,
   "id": "7bc1ff0d",
   "metadata": {},
   "outputs": [
    {
     "data": {
      "text/plain": [
       "array([0, 1, 2, 3, 4, 5, 6, 7, 8, 9])"
      ]
     },
     "execution_count": 67,
     "metadata": {},
     "output_type": "execute_result"
    }
   ],
   "source": [
    "contador"
   ]
  },
  {
   "cell_type": "code",
   "execution_count": 68,
   "id": "6e7fcb2d",
   "metadata": {},
   "outputs": [
    {
     "data": {
      "text/plain": [
       "array([[0, 1],\n",
       "       [2, 3],\n",
       "       [4, 5],\n",
       "       [6, 7],\n",
       "       [8, 9]])"
      ]
     },
     "execution_count": 68,
     "metadata": {},
     "output_type": "execute_result"
    }
   ],
   "source": [
    "contador.reshape((5,2))"
   ]
  },
  {
   "cell_type": "code",
   "execution_count": 69,
   "id": "1ea2279b",
   "metadata": {},
   "outputs": [
    {
     "data": {
      "text/plain": [
       "array([[0, 1],\n",
       "       [2, 3],\n",
       "       [4, 5],\n",
       "       [6, 7],\n",
       "       [8, 9]])"
      ]
     },
     "execution_count": 69,
     "metadata": {},
     "output_type": "execute_result"
    }
   ],
   "source": [
    "contador.reshape((5,2), order='C')"
   ]
  },
  {
   "cell_type": "code",
   "execution_count": 70,
   "id": "8984727c",
   "metadata": {},
   "outputs": [
    {
     "data": {
      "text/plain": [
       "array([[0, 5],\n",
       "       [1, 6],\n",
       "       [2, 7],\n",
       "       [3, 8],\n",
       "       [4, 9]])"
      ]
     },
     "execution_count": 70,
     "metadata": {},
     "output_type": "execute_result"
    }
   ],
   "source": [
    "contador.reshape((5,2), order='F')"
   ]
  },
  {
   "cell_type": "code",
   "execution_count": 76,
   "id": "e7993162",
   "metadata": {},
   "outputs": [],
   "source": [
    "km = [44410., 5712., 37123., 0., 25757.]\n",
    "anos = [2003, 1991, 1990, 2019, 2006]"
   ]
  },
  {
   "cell_type": "code",
   "execution_count": 77,
   "id": "af617c8c",
   "metadata": {},
   "outputs": [],
   "source": [
    "info_carros = km + anos"
   ]
  },
  {
   "cell_type": "code",
   "execution_count": 78,
   "id": "bb20a174",
   "metadata": {},
   "outputs": [
    {
     "data": {
      "text/plain": [
       "[44410.0, 5712.0, 37123.0, 0.0, 25757.0, 2003, 1991, 1990, 2019, 2006]"
      ]
     },
     "execution_count": 78,
     "metadata": {},
     "output_type": "execute_result"
    }
   ],
   "source": [
    "info_carros"
   ]
  },
  {
   "cell_type": "code",
   "execution_count": 80,
   "id": "0d8ba7f9",
   "metadata": {},
   "outputs": [
    {
     "data": {
      "text/plain": [
       "array([[44410.,  5712., 37123.,     0., 25757.],\n",
       "       [ 2003.,  1991.,  1990.,  2019.,  2006.]])"
      ]
     },
     "execution_count": 80,
     "metadata": {},
     "output_type": "execute_result"
    }
   ],
   "source": [
    "np.array(info_carros).reshape((2, 5))"
   ]
  },
  {
   "cell_type": "code",
   "execution_count": 81,
   "id": "2af8f713",
   "metadata": {},
   "outputs": [
    {
     "data": {
      "text/plain": [
       "array([[44410.,  2003.],\n",
       "       [ 5712.,  1991.],\n",
       "       [37123.,  1990.],\n",
       "       [    0.,  2019.],\n",
       "       [25757.,  2006.]])"
      ]
     },
     "execution_count": 81,
     "metadata": {},
     "output_type": "execute_result"
    }
   ],
   "source": [
    "np.array(info_carros).reshape((5, 2), order='F')"
   ]
  },
  {
   "cell_type": "markdown",
   "id": "a149333c",
   "metadata": {},
   "source": [
    "ndarray.resize(new_shape[, refcheck]:<br>\n",
    "Altera a forma e o tamanho do array"
   ]
  },
  {
   "cell_type": "code",
   "execution_count": 82,
   "id": "577c485d",
   "metadata": {},
   "outputs": [
    {
     "data": {
      "text/plain": [
       "array([[44410.,  5712., 37123.,     0., 25757.],\n",
       "       [ 2003.,  1991.,  1990.,  2019.,  2006.]])"
      ]
     },
     "execution_count": 82,
     "metadata": {},
     "output_type": "execute_result"
    }
   ],
   "source": [
    "dados_new = dados.copy()\n",
    "dados_new"
   ]
  },
  {
   "cell_type": "code",
   "execution_count": 84,
   "id": "a8ad8579",
   "metadata": {},
   "outputs": [],
   "source": [
    "dados_new.resize((3, 5), refcheck=False)"
   ]
  },
  {
   "cell_type": "code",
   "execution_count": 85,
   "id": "e10cf5c2",
   "metadata": {},
   "outputs": [
    {
     "data": {
      "text/plain": [
       "array([[44410.,  5712., 37123.,     0., 25757.],\n",
       "       [ 2003.,  1991.,  1990.,  2019.,  2006.],\n",
       "       [    0.,     0.,     0.,     0.,     0.]])"
      ]
     },
     "execution_count": 85,
     "metadata": {},
     "output_type": "execute_result"
    }
   ],
   "source": [
    "dados_new"
   ]
  },
  {
   "cell_type": "code",
   "execution_count": 87,
   "id": "2c0e31ee",
   "metadata": {},
   "outputs": [
    {
     "name": "stderr",
     "output_type": "stream",
     "text": [
      "<ipython-input-87-f9c7ebd2c682>:1: RuntimeWarning: invalid value encountered in true_divide\n",
      "  dados_new[2] = dados_new[0] / (2019 - dados_new[1])\n"
     ]
    }
   ],
   "source": [
    "dados_new[2] = dados_new[0] / (2019 - dados_new[1])"
   ]
  },
  {
   "cell_type": "code",
   "execution_count": 88,
   "id": "642021fd",
   "metadata": {},
   "outputs": [
    {
     "data": {
      "text/plain": [
       "array([[44410.        ,  5712.        , 37123.        ,     0.        ,\n",
       "        25757.        ],\n",
       "       [ 2003.        ,  1991.        ,  1990.        ,  2019.        ,\n",
       "         2006.        ],\n",
       "       [ 2775.625     ,   204.        ,  1280.10344828,            nan,\n",
       "         1981.30769231]])"
      ]
     },
     "execution_count": 88,
     "metadata": {},
     "output_type": "execute_result"
    }
   ],
   "source": [
    "dados_new"
   ]
  },
  {
   "cell_type": "markdown",
   "id": "d5979e46",
   "metadata": {},
   "source": [
    "## Estatísticas com array Numpy"
   ]
  },
  {
   "cell_type": "code",
   "execution_count": 98,
   "id": "4a4f3bf2",
   "metadata": {},
   "outputs": [],
   "source": [
    "anos = np.loadtxt(fname = 'carros-ano.txt', dtype = int)\n",
    "km = np.loadtxt(fname = \"carros-km.txt\")\n",
    "valor = np.loadtxt(fname = \"carros-valor.txt\")"
   ]
  },
  {
   "cell_type": "code",
   "execution_count": 99,
   "id": "3cdcfef7",
   "metadata": {},
   "outputs": [
    {
     "data": {
      "text/plain": [
       "(258,)"
      ]
     },
     "execution_count": 99,
     "metadata": {},
     "output_type": "execute_result"
    }
   ],
   "source": [
    "anos.shape"
   ]
  },
  {
   "cell_type": "code",
   "execution_count": 101,
   "id": "f73d6d38",
   "metadata": {},
   "outputs": [],
   "source": [
    "dataset = np.column_stack((anos, km, valor))"
   ]
  },
  {
   "cell_type": "code",
   "execution_count": 102,
   "id": "0174d4dd",
   "metadata": {},
   "outputs": [
    {
     "data": {
      "text/plain": [
       "array([[  2003., 160951.,  95924.],\n",
       "       [  1991.,   8215.,  22604.],\n",
       "       [  1990., 362816.,  18104.],\n",
       "       [  2019., 322498.,  83207.],\n",
       "       [  2006., 257753.,  18374.],\n",
       "       [  2012., 449134.,  64239.],\n",
       "       [  2019., 424139.,  69891.],\n",
       "       [  2009., 327520.,  72799.],\n",
       "       [  2010., 355782.,  49110.],\n",
       "       [  2011., 190530.,  55157.],\n",
       "       [  2002., 214246.,  81486.],\n",
       "       [  2007.,  23875.,  37571.],\n",
       "       [  2001., 140194.,  62779.],\n",
       "       [  2019., 413642.,  38790.],\n",
       "       [  2009., 189854.,  35353.],\n",
       "       [  2016., 458086.,  32356.],\n",
       "       [  2012., 362254.,  65282.],\n",
       "       [  2019.,  94597.,  43396.],\n",
       "       [  2016., 416977.,  76531.],\n",
       "       [  2017.,  43007.,  68279.],\n",
       "       [  2002., 409545.,  41647.],\n",
       "       [  2019.,  64862.,  79595.],\n",
       "       [  1994., 423013.,  77914.],\n",
       "       [  1991., 336508.,  83873.],\n",
       "       [  2019.,  97370.,  55385.],\n",
       "       [  2019., 348399.,  83289.],\n",
       "       [  2016., 465393.,  93453.],\n",
       "       [  2019., 237942.,  73129.],\n",
       "       [  2002., 399485.,  34248.],\n",
       "       [  1991., 408665.,  25000.],\n",
       "       [  1997., 249671.,  74091.],\n",
       "       [  1995., 362395.,  97869.],\n",
       "       [  2018., 276767.,  39397.],\n",
       "       [  1991., 265262.,  74266.],\n",
       "       [  2014., 159991.,  39956.],\n",
       "       [  1995.,  35968.,  52902.],\n",
       "       [  2019.,  64626.,  56049.],\n",
       "       [  2019., 329190.,  64241.],\n",
       "       [  2009., 148134.,  86633.],\n",
       "       [  2019., 255816.,  62859.],\n",
       "       [  2013., 382769.,  87554.],\n",
       "       [  2003., 112057.,  83067.],\n",
       "       [  2019., 308114.,  22022.],\n",
       "       [  2002., 328763.,  91733.],\n",
       "       [  2019., 149039.,  30810.],\n",
       "       [  2002.,  95574.,  65771.],\n",
       "       [  2004., 105484.,  85669.],\n",
       "       [  2001., 153838.,  48156.],\n",
       "       [  2019.,  50550.,  65553.],\n",
       "       [  2003., 229867.,  32030.],\n",
       "       [  2009.,  52914.,  53491.],\n",
       "       [  2006., 261546.,  93497.],\n",
       "       [  2000.,  79462.,  60845.],\n",
       "       [  2006., 227520.,  71237.],\n",
       "       [  2010., 210926.,  31212.],\n",
       "       [  1994., 181542.,  16242.],\n",
       "       [  2007.,  37123.,  68051.],\n",
       "       [  2019.,  74252.,  81370.],\n",
       "       [  2019., 213189.,  68885.],\n",
       "       [  2019.,  91755.,  71241.],\n",
       "       [  2019., 135921.,  17177.],\n",
       "       [  2019., 137341.,  55019.],\n",
       "       [  2017., 113789.,  75055.],\n",
       "       [  2011., 355926.,  43694.],\n",
       "       [  2001., 128133.,  96020.],\n",
       "       [  1996., 310603.,  21424.],\n",
       "       [  2019., 379170.,  87224.],\n",
       "       [  1994., 154331.,  59875.],\n",
       "       [  2019., 371666.,  94078.],\n",
       "       [  2007., 177417.,  27941.],\n",
       "       [  1994., 425940.,  23179.],\n",
       "       [  2007., 245097.,  83447.],\n",
       "       [  1997., 315533.,  36447.],\n",
       "       [  2006., 344558.,  62331.],\n",
       "       [  2013.,  77696.,  77992.],\n",
       "       [  1994., 412266.,  57990.],\n",
       "       [  2008., 253121.,  19563.],\n",
       "       [  2008.,  33611.,  16619.],\n",
       "       [  2019.,  28788.,  52325.],\n",
       "       [  2019., 362780.,  68932.],\n",
       "       [  1999., 112254.,  51081.],\n",
       "       [  2007.,   5922.,  17810.],\n",
       "       [  1993., 325464.,  82721.],\n",
       "       [  1995.,  53478.,  76597.],\n",
       "       [  2019., 293646.,  27219.],\n",
       "       [  2019.,  84337.,  72877.],\n",
       "       [  2016., 469741.,  84404.],\n",
       "       [  2011., 143430.,  62220.],\n",
       "       [  2019., 209430.,  47272.],\n",
       "       [  2002., 103656.,  21850.],\n",
       "       [  2013.,  66184.,  38681.],\n",
       "       [  2017., 382674.,  62547.],\n",
       "       [  2016., 349950.,  51140.],\n",
       "       [  2008., 400139.,  77048.],\n",
       "       [  2018., 352741.,  25691.],\n",
       "       [  2003.,  77738.,  78020.],\n",
       "       [  2003., 211539.,  72583.],\n",
       "       [  2004., 320867.,  97658.],\n",
       "       [  2010., 299801.,  97600.],\n",
       "       [  2019., 349710.,  84565.],\n",
       "       [  2006.,  57458.,  62380.],\n",
       "       [  2001., 351991.,  33064.],\n",
       "       [  2019., 106037.,  20071.],\n",
       "       [  2015., 380882.,  88805.],\n",
       "       [  2018., 132115.,  79387.],\n",
       "       [  2017., 305388.,  84396.],\n",
       "       [  1992., 345552.,  62902.],\n",
       "       [  2001., 173433.,  67292.],\n",
       "       [  1993., 264974.,  19677.],\n",
       "       [  1995., 225905.,  68133.],\n",
       "       [  2003., 386384.,  77905.],\n",
       "       [  2014., 322159.,  28688.],\n",
       "       [  2008.,  80136.,  90483.],\n",
       "       [  2013., 105984.,  54152.],\n",
       "       [  2019.,  80115.,  90468.],\n",
       "       [  2017., 195156.,  37701.],\n",
       "       [  2019., 333610.,  67129.],\n",
       "       [  2019.,  71113.,  41078.],\n",
       "       [  2006., 423726.,  57978.],\n",
       "       [  2015., 128947.,  64764.],\n",
       "       [  2007., 296095.,  97391.],\n",
       "       [  2005.,  34882.,  60169.],\n",
       "       [  2017.,  24837.,  47389.],\n",
       "       [  1998.,  50884.,  47394.],\n",
       "       [  2019., 374020.,  69780.],\n",
       "       [  1999., 122900.,  25993.],\n",
       "       [  2019.,  67741.,  70491.],\n",
       "       [  2009., 187244.,  60165.],\n",
       "       [  2003.,  87125.,  60492.],\n",
       "       [  1994.,  97885.,  90029.],\n",
       "       [  2019., 297783.,  20012.],\n",
       "       [  1994., 174821.,  82623.],\n",
       "       [  2019., 204694.,  16057.],\n",
       "       [  2015., 139421.,  67834.],\n",
       "       [  1996.,  65293.,  90836.],\n",
       "       [  1997.,  45061.,  77497.],\n",
       "       [  1993., 164034.,  21760.],\n",
       "       [  2019., 448561.,  18472.],\n",
       "       [  1992., 347970.,  23107.],\n",
       "       [  1995., 105920.,  53968.],\n",
       "       [  2019., 355015.,  38685.],\n",
       "       [  1990., 307708.,  68265.],\n",
       "       [  2019., 108400.,  22226.],\n",
       "       [  2019., 373325.,  21749.],\n",
       "       [  1991., 460698.,  59049.],\n",
       "       [  1990.,  62665.,  34656.],\n",
       "       [  2012., 422641.,  84193.],\n",
       "       [  2007.,  86384.,  75719.],\n",
       "       [  2013., 337327.,  41675.],\n",
       "       [  2000., 418210.,  23601.],\n",
       "       [  2002., 107665.,  92574.],\n",
       "       [  1996.,  28425.,  78419.],\n",
       "       [  1996., 368974.,  20183.],\n",
       "       [  2015., 472874.,  83836.],\n",
       "       [  1993., 392050.,  64690.],\n",
       "       [  2013.,  14136.,  23748.],\n",
       "       [  2013.,  48503.,  89598.],\n",
       "       [  2009.,  29183.,  69377.],\n",
       "       [  2019.,  67964.,  21386.],\n",
       "       [  2019., 471493.,  75890.],\n",
       "       [  2002., 206769.,  36940.],\n",
       "       [  1997., 186460.,  71473.],\n",
       "       [  1998., 240800.,  59322.],\n",
       "       [  2004., 363927.,  93410.],\n",
       "       [  1996., 108645.,  78263.],\n",
       "       [  2015., 418330.,  15114.],\n",
       "       [  2016., 105053.,  29469.],\n",
       "       [  2005., 156557.,  72640.],\n",
       "       [  1999., 453897.,  35137.],\n",
       "       [  1995., 404341.,  71502.],\n",
       "       [  1993., 185540.,  50332.],\n",
       "       [  2004., 170999.,  51784.],\n",
       "       [  2013., 267505.,  65153.],\n",
       "       [  1998., 439221.,  29002.],\n",
       "       [  2018., 264592.,  90448.],\n",
       "       [  2019., 402259.,  85049.],\n",
       "       [  2018., 134631.,  22598.],\n",
       "       [  2019., 299786.,  22874.],\n",
       "       [  1990., 155968.,  72809.],\n",
       "       [  2009., 234520.,  28066.],\n",
       "       [  1990.,  51744.,  66566.],\n",
       "       [  2006., 368964.,  49495.],\n",
       "       [  2002.,  55700.,  21232.],\n",
       "       [  1991., 429885.,  62684.],\n",
       "       [  1992.,  16474.,  69799.],\n",
       "       [  2019., 253534.,  52159.],\n",
       "       [  2019., 238816.,  27097.],\n",
       "       [  2005., 295171.,  74147.],\n",
       "       [  2010., 339594.,  46380.],\n",
       "       [  2019., 172839.,  85410.],\n",
       "       [  2016.,  49942.,  16421.],\n",
       "       [  2019., 175187.,  73981.],\n",
       "       [  2010.,  66435.,  37272.],\n",
       "       [  1994., 463340.,  29073.],\n",
       "       [  2001., 284506.,  95764.],\n",
       "       [  2014., 390266.,  87186.],\n",
       "       [  1996., 111226.,  70581.],\n",
       "       [  1993., 391871.,  31393.],\n",
       "       [  1993.,  23449.,  53918.],\n",
       "       [  2001., 193208.,  92903.],\n",
       "       [  2019., 347107.,  64736.],\n",
       "       [  2019., 411594.,  43538.],\n",
       "       [  2019.,  66413.,  19738.],\n",
       "       [  2007., 394235.,  47523.],\n",
       "       [  2019., 165268.,  95158.],\n",
       "       [  2016., 226894.,  59775.],\n",
       "       [  2014., 451229.,  54283.],\n",
       "       [  2019.,  81727.,  33270.],\n",
       "       [  2015., 421043.,  75437.],\n",
       "       [  2015., 283963.,  62069.],\n",
       "       [  1996., 420196.,  78049.],\n",
       "       [  2002., 260441.,  46327.],\n",
       "       [  2005., 200665.,  21057.],\n",
       "       [  1995., 189858.,  46910.],\n",
       "       [  1999.,  73289.,  17274.],\n",
       "       [  2005., 131330.,  78634.],\n",
       "       [  2019., 470993.,  39940.],\n",
       "       [  1997., 386506.,  21918.],\n",
       "       [  1990., 288354.,  38761.],\n",
       "       [  2001., 196693.,  46059.],\n",
       "       [  2013., 355250.,  95281.],\n",
       "       [  2019.,  14292.,  61260.],\n",
       "       [  2017.,  24149.,  69436.],\n",
       "       [  2011., 388156.,  16302.],\n",
       "       [  2005., 379461.,  61207.],\n",
       "       [  2007., 240974.,  61328.],\n",
       "       [  1993., 345193.,  78308.],\n",
       "       [  1991., 425485.,  97894.],\n",
       "       [  1991., 428301.,  95261.],\n",
       "       [  1997., 342923.,  63623.],\n",
       "       [  2000., 185985.,  79665.],\n",
       "       [  2007., 357891.,  80018.],\n",
       "       [  2006., 458272.,  43430.],\n",
       "       [  2015., 409833.,  50763.],\n",
       "       [  2008.,  16529.,  87748.],\n",
       "       [  2019., 115381.,  46755.],\n",
       "       [  1996., 168752.,  64694.],\n",
       "       [  2019., 215135.,  90374.],\n",
       "       [  2019., 392753.,  91060.],\n",
       "       [  2014., 182255.,  64437.],\n",
       "       [  2004.,  21462.,  64222.],\n",
       "       [  2008.,  70977.,  52530.],\n",
       "       [  2019.,   3536.,  97950.],\n",
       "       [  2019., 478118.,  23181.],\n",
       "       [  2012., 160920.,  83227.],\n",
       "       [  2019., 443546.,  27931.],\n",
       "       [  1996., 155217.,  49749.],\n",
       "       [  2011.,  26112.,  49222.],\n",
       "       [  2019., 421412.,  56088.],\n",
       "       [  2010., 354111.,  21738.],\n",
       "       [  2007., 100928.,  20996.],\n",
       "       [  1994., 383080.,  48400.],\n",
       "       [  2007., 237468.,  74648.],\n",
       "       [  2014., 378077.,  89755.],\n",
       "       [  1991., 131920.,  28528.],\n",
       "       [  2002., 381354.,  75557.],\n",
       "       [  1996.,  42114.,  31672.],\n",
       "       [  1992., 379429.,  77946.]])"
      ]
     },
     "execution_count": 102,
     "metadata": {},
     "output_type": "execute_result"
    }
   ],
   "source": [
    "dataset"
   ]
  },
  {
   "cell_type": "code",
   "execution_count": 103,
   "id": "c51dd17c",
   "metadata": {},
   "outputs": [
    {
     "data": {
      "text/plain": [
       "(258, 3)"
      ]
     },
     "execution_count": 103,
     "metadata": {},
     "output_type": "execute_result"
    }
   ],
   "source": [
    "dataset.shape"
   ]
  },
  {
   "cell_type": "markdown",
   "id": "8589773b",
   "metadata": {},
   "source": [
    "np.mean():<br>\n",
    "Retorna a média dos elementos do array ao longo do eixo especificado."
   ]
  },
  {
   "cell_type": "code",
   "execution_count": 104,
   "id": "8247f25f",
   "metadata": {},
   "outputs": [
    {
     "data": {
      "text/plain": [
       "98307.95219638242"
      ]
     },
     "execution_count": 104,
     "metadata": {},
     "output_type": "execute_result"
    }
   ],
   "source": [
    "np.mean(dataset) # média de TODOS os numero presente no array"
   ]
  },
  {
   "cell_type": "code",
   "execution_count": 105,
   "id": "11fcff9f",
   "metadata": {},
   "outputs": [
    {
     "data": {
      "text/plain": [
       "array([  2007.51162791, 235178.75968992,  57737.58527132])"
      ]
     },
     "execution_count": 105,
     "metadata": {},
     "output_type": "execute_result"
    }
   ],
   "source": [
    "np.mean(dataset, axis = 0) # media de cada uma das colunas"
   ]
  },
  {
   "cell_type": "code",
   "execution_count": 108,
   "id": "c9175a8b",
   "metadata": {},
   "outputs": [
    {
     "data": {
      "text/plain": [
       "array([ 86292.66666667,  10936.66666667, 127636.66666667, 135908.        ,\n",
       "        92711.        , 171795.        , 165349.66666667, 134109.33333333,\n",
       "       135634.        ,  82566.        ,  99244.66666667,  21151.        ,\n",
       "        68324.66666667, 151483.66666667,  75738.66666667, 164152.66666667,\n",
       "       143182.66666667,  46670.66666667, 165174.66666667,  37767.66666667,\n",
       "       151064.66666667,  48825.33333333, 167640.33333333, 140790.66666667,\n",
       "        51591.33333333, 144569.        , 186954.        , 104363.33333333,\n",
       "       145245.        , 145218.66666667, 108586.33333333, 154086.33333333,\n",
       "       106060.66666667, 113839.66666667,  67320.33333333,  30288.33333333,\n",
       "        40898.        , 131816.66666667,  78925.33333333, 106898.        ,\n",
       "       157445.33333333,  65709.        , 110718.33333333, 140832.66666667,\n",
       "        60622.66666667,  54449.        ,  64385.66666667,  67998.33333333,\n",
       "        39374.        ,  87966.66666667,  36138.        , 119016.33333333,\n",
       "        47435.66666667, 100254.33333333,  81382.66666667,  66592.66666667,\n",
       "        35727.        ,  52547.        ,  94697.66666667,  55005.        ,\n",
       "        51705.66666667,  64793.        ,  63620.33333333, 133877.        ,\n",
       "        75384.66666667, 111341.        , 156137.66666667,  72066.66666667,\n",
       "       155921.        ,  69121.66666667, 150371.        , 110183.66666667,\n",
       "       117992.33333333, 136298.33333333,  52567.        , 157416.66666667,\n",
       "        91564.        ,  17412.66666667,  27710.66666667, 144577.        ,\n",
       "        55111.33333333,   8579.66666667, 136726.        ,  44023.33333333,\n",
       "       107628.        ,  53077.66666667, 185387.        ,  69220.33333333,\n",
       "        86240.33333333,  42502.66666667,  35626.        , 149079.33333333,\n",
       "       134368.66666667, 159731.66666667, 126816.66666667,  52587.        ,\n",
       "        95375.        , 140176.33333333, 133137.        , 145431.33333333,\n",
       "        40614.66666667, 129018.66666667,  42709.        , 157234.        ,\n",
       "        71173.33333333, 130600.33333333, 136815.33333333,  80908.66666667,\n",
       "        95548.        ,  98677.66666667, 155430.66666667, 117620.33333333,\n",
       "        57542.33333333,  54049.66666667,  57534.        ,  78291.33333333,\n",
       "       134252.66666667,  38070.        , 161236.66666667,  65242.        ,\n",
       "       131831.        ,  32352.        ,  24747.66666667,  33425.33333333,\n",
       "       148606.33333333,  50297.33333333,  46750.33333333,  83139.33333333,\n",
       "        49873.33333333,  63302.66666667, 106604.66666667,  86479.33333333,\n",
       "        74256.66666667,  69756.66666667,  52708.33333333,  41518.33333333,\n",
       "        62595.66666667, 156350.66666667, 124356.33333333,  53961.        ,\n",
       "       131906.33333333, 125987.66666667,  44215.        , 132364.33333333,\n",
       "       173912.66666667,  33103.66666667, 169615.33333333,  54703.33333333,\n",
       "       127005.        , 147937.        ,  67413.66666667,  36280.        ,\n",
       "       130384.33333333, 186241.66666667, 152911.        ,  13299.        ,\n",
       "        46704.66666667,  33523.        ,  30456.33333333, 183134.        ,\n",
       "        81903.66666667,  86643.33333333, 100706.66666667, 153113.66666667,\n",
       "        62968.        , 145153.        ,  45512.66666667,  77067.33333333,\n",
       "       163677.66666667, 159279.33333333,  79288.33333333,  74929.        ,\n",
       "       111557.        , 156740.33333333, 119019.33333333, 163109.        ,\n",
       "        53082.33333333, 108226.33333333,  76922.33333333,  88198.33333333,\n",
       "        40100.        , 140155.        ,  26311.33333333, 164853.33333333,\n",
       "        29421.66666667, 102570.66666667,  89310.66666667, 123774.33333333,\n",
       "       129328.        ,  86756.        ,  22793.        ,  83729.        ,\n",
       "        35239.        , 164802.33333333, 127423.66666667, 159822.        ,\n",
       "        61267.66666667, 141752.33333333,  26453.33333333,  96037.33333333,\n",
       "       137954.        , 152383.66666667,  29390.        , 147921.66666667,\n",
       "        87481.66666667,  96228.33333333, 169175.33333333,  39005.33333333,\n",
       "       166165.        , 116015.66666667, 166747.        , 102923.33333333,\n",
       "        74575.66666667,  79587.66666667,  30854.        ,  70656.33333333,\n",
       "       170984.        , 136807.        , 109701.66666667,  81584.33333333,\n",
       "       150848.        ,  25857.        ,  31867.33333333, 135489.66666667,\n",
       "       147557.66666667, 101436.33333333, 141831.33333333, 175123.33333333,\n",
       "       175184.33333333, 136181.        ,  89216.66666667, 146638.66666667,\n",
       "       167902.66666667, 154203.66666667,  35428.33333333,  54718.33333333,\n",
       "        78480.66666667, 102509.33333333, 161944.        ,  82902.        ,\n",
       "        29229.33333333,  41838.33333333,  34501.66666667, 167772.66666667,\n",
       "        82053.        , 157832.        ,  68987.33333333,  25781.66666667,\n",
       "       159839.66666667, 125953.        ,  41310.33333333, 144491.33333333,\n",
       "       104707.66666667, 156615.33333333,  54146.33333333, 152971.        ,\n",
       "        25260.66666667, 153122.33333333])"
      ]
     },
     "execution_count": 108,
     "metadata": {},
     "output_type": "execute_result"
    }
   ],
   "source": [
    " np.mean(dataset, axis = 1) # media de cada uma das linhas, porem n faz sentido usar nesses arquivos"
   ]
  },
  {
   "cell_type": "code",
   "execution_count": 110,
   "id": "08f4f282",
   "metadata": {},
   "outputs": [
    {
     "data": {
      "text/plain": [
       "235178.75968992247"
      ]
     },
     "execution_count": 110,
     "metadata": {},
     "output_type": "execute_result"
    }
   ],
   "source": [
    " np.mean(dataset[:, 1]) # para "
   ]
  },
  {
   "cell_type": "code",
   "execution_count": 111,
   "id": "1ab537d2",
   "metadata": {},
   "outputs": [
    {
     "data": {
      "text/plain": [
       "57737.58527131783"
      ]
     },
     "execution_count": 111,
     "metadata": {},
     "output_type": "execute_result"
    }
   ],
   "source": [
    " np.mean(dataset[:, 2])"
   ]
  },
  {
   "cell_type": "markdown",
   "id": "5e7602d5",
   "metadata": {},
   "source": [
    "np.std():<br>\n",
    "Retorna o desvio padrão dos elementos do array ao longo do eixo especificado."
   ]
  },
  {
   "cell_type": "code",
   "execution_count": 112,
   "id": "8b05d1f9",
   "metadata": {},
   "outputs": [
    {
     "data": {
      "text/plain": [
       "24162.269468225288"
      ]
     },
     "execution_count": 112,
     "metadata": {},
     "output_type": "execute_result"
    }
   ],
   "source": [
    "np.std(dataset[:, 2])"
   ]
  },
  {
   "cell_type": "markdown",
   "id": "6695f4bc",
   "metadata": {},
   "source": [
    "ndarray.sum():<br>\n",
    "Retorna a soma dos elementos do array ao longo do eixo especificado."
   ]
  },
  {
   "cell_type": "code",
   "execution_count": 113,
   "id": "d16f93b8",
   "metadata": {},
   "outputs": [
    {
     "data": {
      "text/plain": [
       "array([  517938., 60676120., 14896297.])"
      ]
     },
     "execution_count": 113,
     "metadata": {},
     "output_type": "execute_result"
    }
   ],
   "source": [
    "dataset.sum(axis = 0)"
   ]
  },
  {
   "cell_type": "code",
   "execution_count": 115,
   "id": "2456f97f",
   "metadata": {},
   "outputs": [
    {
     "data": {
      "text/plain": [
       "76090355.0"
      ]
     },
     "execution_count": 115,
     "metadata": {},
     "output_type": "execute_result"
    }
   ],
   "source": [
    "dataset.sum()"
   ]
  },
  {
   "cell_type": "code",
   "execution_count": 116,
   "id": "0b76ddcb",
   "metadata": {},
   "outputs": [
    {
     "data": {
      "text/plain": [
       "60676120.0"
      ]
     },
     "execution_count": 116,
     "metadata": {},
     "output_type": "execute_result"
    }
   ],
   "source": [
    "dataset[:, 1].sum()"
   ]
  },
  {
   "cell_type": "markdown",
   "id": "f27d3465",
   "metadata": {},
   "source": [
    "np.sum():<br>\n",
    "Retorna a soma dos elementos do array ao longo do eixo especificado."
   ]
  },
  {
   "cell_type": "code",
   "execution_count": 117,
   "id": "be86e81b",
   "metadata": {},
   "outputs": [
    {
     "data": {
      "text/plain": [
       "array([  517938., 60676120., 14896297.])"
      ]
     },
     "execution_count": 117,
     "metadata": {},
     "output_type": "execute_result"
    }
   ],
   "source": [
    "np.sum(dataset, axis = 0)"
   ]
  },
  {
   "cell_type": "code",
   "execution_count": 118,
   "id": "60c792fb",
   "metadata": {},
   "outputs": [
    {
     "data": {
      "text/plain": [
       "14896297.0"
      ]
     },
     "execution_count": 118,
     "metadata": {},
     "output_type": "execute_result"
    }
   ],
   "source": [
    "np.sum(dataset[:, 2])"
   ]
  },
  {
   "cell_type": "code",
   "execution_count": null,
   "id": "954f4841",
   "metadata": {},
   "outputs": [],
   "source": []
  }
 ],
 "metadata": {
  "kernelspec": {
   "display_name": "Python 3",
   "language": "python",
   "name": "python3"
  },
  "language_info": {
   "codemirror_mode": {
    "name": "ipython",
    "version": 3
   },
   "file_extension": ".py",
   "mimetype": "text/x-python",
   "name": "python",
   "nbconvert_exporter": "python",
   "pygments_lexer": "ipython3",
   "version": "3.8.8"
  }
 },
 "nbformat": 4,
 "nbformat_minor": 5
}
